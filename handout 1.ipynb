{
 "cells": [
  {
   "cell_type": "code",
   "execution_count": 1,
   "metadata": {},
   "outputs": [
    {
     "name": "stdout",
     "output_type": "stream",
     "text": [
      "1 0 0 1\n",
      "0 1 0 1\n",
      "0.5\n",
      "0.3333333333333333\n"
     ]
    }
   ],
   "source": [
    "#problem1\n",
    "l1=[int(x) for x in input().split()]\n",
    "l2=[int(x) for x in input().split()]\n",
    "a11=0;a00=0;a10=0;a01=0;\n",
    "for i in  range(len(l1)):\n",
    "    if(l1[i]==0 and l2[i]==0):\n",
    "        a00+=1\n",
    "    if(l1[i]==0 and l2[i]==1):\n",
    "        a01+=1\n",
    "    if(l1[i]==1 and l2[i]==0):\n",
    "        a10+=1\n",
    "    if(l1[i]==1 and l2[i]==1):\n",
    "        a11+=1\n",
    "smc=0.0;jc=0.0;\n",
    "smc=(a11+a00)/(a11+a10+a01+a00)\n",
    "jc=(a11)/(a11+a10+a01)\n",
    "print(smc)\n",
    "print(jc)"
   ]
  },
  {
   "cell_type": "code",
   "execution_count": null,
   "metadata": {
    "collapsed": true
   },
   "outputs": [],
   "source": []
  },
  {
   "cell_type": "code",
   "execution_count": 9,
   "metadata": {},
   "outputs": [
    {
     "name": "stdout",
     "output_type": "stream",
     "text": [
      "1,3,4,5 2,6 7 8,9\n",
      "1,2,3,4 5,6 7,8,9\n",
      "[[ 0.  0.  0.  0.  0.  0.  0.  0.  0.]\n",
      " [ 0.  0.  0.  0.  0.  0.  0.  0.  0.]\n",
      " [ 0.  0.  0.  0.  0.  0.  0.  0.  0.]\n",
      " [ 0.  0.  0.  0.  0.  0.  0.  0.  0.]\n",
      " [ 0.  0.  0.  0.  0.  0.  0.  0.  0.]\n",
      " [ 0.  0.  0.  0.  0.  0.  0.  0.  0.]\n",
      " [ 0.  0.  0.  0.  0.  0.  0.  0.  0.]\n",
      " [ 0.  0.  0.  0.  0.  0.  0.  0.  0.]\n",
      " [ 0.  0.  0.  0.  0.  0.  0.  0.  0.]]\n"
     ]
    }
   ],
   "source": [
    "#problem2\n",
    "import numpy as np\n",
    "l=[];count=0;l1=[];count1=0;\n",
    "s=input()\n",
    "s1=input()\n",
    "s1=s.split()\n",
    "s=s.split()\n",
    "for i in s:\n",
    "    l.append(i.split(','))\n",
    "for i in range(len(l)):\n",
    "    for j in range(len(l[i])):\n",
    "        l[i][j]=int(l[i][j])\n",
    "        count+=1\n",
    "for i in s1:\n",
    "    l1.append(i.split(','))\n",
    "for i in range(len(l1)):\n",
    "    for j in range(len(l1[i])):\n",
    "        l1[i][j]=int(l1[i][j])\n",
    "        count1+=1\n",
    "a=np.zeros(shape=(9,9))\n",
    "s=0;t=0;y=len(l);y1=len(l1);x=0\n",
    "for i in range(0,9):\n",
    "    x=i\n",
    "    for j in range(x+1,9):\n",
    "        if i==j:\n",
    "            pass\n",
    "        s,t=i,j\n",
    "        for k in range(0,y):\n",
    "            if s in l1[k] and t in l1[k]:\n",
    "                a[i,j]=1\n",
    "            else:\n",
    "                a[i,j]=0\n",
    "print(a)"
   ]
  },
  {
   "cell_type": "code",
   "execution_count": null,
   "metadata": {
    "collapsed": true
   },
   "outputs": [],
   "source": []
  },
  {
   "cell_type": "code",
   "execution_count": null,
   "metadata": {
    "collapsed": true
   },
   "outputs": [],
   "source": [
    "#problem3 \n",
    "import math\n",
    "def ncr(n,r):\n",
    "    f=math.factorial\n",
    "    return f(n)//f(r)//f(n-r)\n",
    "N=int(input(\"enter count of p\"))\n",
    "l=[]\n",
    "n=int(input(\"enter n value\"))\n",
    "r=int(input(\"enter r value\"))\n",
    "for i in range(N):\n",
    "    p=float(input(\"enter p value\"))\n",
    "    q=1-p\n",
    "    l.append(ncr(n,r)*(p**(r))*(q**(n-r)))\n",
    "\n",
    "print(\"maximum likelyhood:\",max(l))    "
   ]
  },
  {
   "cell_type": "code",
   "execution_count": 13,
   "metadata": {},
   "outputs": [
    {
     "name": "stdout",
     "output_type": "stream",
     "text": [
      "enter n value10\n",
      "enter r value6\n"
     ]
    },
    {
     "data": {
      "text/plain": [
       "<function __main__.<lambda>>"
      ]
     },
     "execution_count": 13,
     "metadata": {},
     "output_type": "execute_result"
    }
   ],
   "source": [
    "import math\n",
    "def ncr(n,r):\n",
    "    f=math.factorial\n",
    "    return f(n)//f(r)//f(n-r)\n",
    "n=int(input(\"enter n value\"))\n",
    "r=int(input(\"enter r value\"))\n",
    "l=lambda n,r,p:ncr(n,r)*(p**(r))*((1-p)**(n-r))\n",
    "l"
   ]
  },
  {
   "cell_type": "code",
   "execution_count": null,
   "metadata": {
    "collapsed": true
   },
   "outputs": [],
   "source": []
  },
  {
   "cell_type": "code",
   "execution_count": null,
   "metadata": {
    "collapsed": true
   },
   "outputs": [],
   "source": []
  },
  {
   "cell_type": "code",
   "execution_count": null,
   "metadata": {
    "collapsed": true
   },
   "outputs": [],
   "source": [
    "s=0;t=0;y=len(l);y1=len(l1)\n",
    "for i in range(1,10):\n",
    "    for j in range(1,10):\n",
    "        if i==j:\n",
    "            pass\n",
    "        if i<j:\n",
    "            s,t=i,j\n",
    "            for k in range(0,y):\n",
    "                if s in l[k] and t in l[k]:\n",
    "                    a[i,j]=1\n",
    "                else:\n",
    "                    a[i,j]=0\n",
    "        if i>j:\n",
    "            s,t=i,j\n",
    "            for k in range(0,y1):\n",
    "                if s in l1[k] and t in l1[k]:\n",
    "                    a[i,j]=1\n",
    "                else:\n",
    "                    a[i,j]=0\n",
    "                    print(a)\n",
    "      "
   ]
  },
  {
   "cell_type": "code",
   "execution_count": null,
   "metadata": {
    "collapsed": true
   },
   "outputs": [],
   "source": []
  }
 ],
 "metadata": {
  "kernelspec": {
   "display_name": "Python 3",
   "language": "python",
   "name": "python3"
  },
  "language_info": {
   "codemirror_mode": {
    "name": "ipython",
    "version": 3
   },
   "file_extension": ".py",
   "mimetype": "text/x-python",
   "name": "python",
   "nbconvert_exporter": "python",
   "pygments_lexer": "ipython3",
   "version": "3.6.3"
  }
 },
 "nbformat": 4,
 "nbformat_minor": 2
}
