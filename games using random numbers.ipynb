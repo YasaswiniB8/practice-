{
 "cells": [
  {
   "cell_type": "code",
   "execution_count": 4,
   "metadata": {},
   "outputs": [
    {
     "name": "stdout",
     "output_type": "stream",
     "text": [
      "tell us  a number between 10 and 20 and play the game11\n",
      "sorry! your number doesnt match\n",
      "14\n"
     ]
    }
   ],
   "source": [
    "import random\n",
    "x=random.randint(10,20)\n",
    "n=int(input(\"tell us  a number between 10 and 20 and play the game\"))\n",
    "if x==n:\n",
    "    print(\"hurray! your number matched \")\n",
    "else:\n",
    "    print(\"sorry! your number doesnt match\")\n",
    "print(x)"
   ]
  },
  {
   "cell_type": "code",
   "execution_count": 7,
   "metadata": {},
   "outputs": [
    {
     "name": "stdout",
     "output_type": "stream",
     "text": [
      "enter how many attempts you want to make2\n",
      "guess a number 2\n",
      "sorry!!! wrong guess\n",
      "guess a number 3\n",
      "sorry!!! wrong guess\n"
     ]
    }
   ],
   "source": [
    "n=int(input(\"enter how many attempts you want to make\"))\n",
    "x=random.randint(1,10)\n",
    "for i in range(0,n):\n",
    "    i=int(input(\"guess a number \"))\n",
    "    if i==x :\n",
    "        print(\"you won!!!!!\")\n",
    "        break\n",
    "    else:\n",
    "        print(\"sorry!!! wrong guess\")"
   ]
  },
  {
   "cell_type": "code",
   "execution_count": 8,
   "metadata": {},
   "outputs": [
    {
     "name": "stdout",
     "output_type": "stream",
     "text": [
      "enter how many attempts you want to make6\n",
      "enter a character a\n",
      "enter a character m\n",
      "enter a character i\n",
      "enter a character i\n",
      "enter a character n\n",
      "enter a character y\n",
      "you won\n"
     ]
    }
   ],
   "source": [
    "n=int(input(\"enter how many attempts you want to make\"))\n",
    "y=0\n",
    "s=\"yamini\"\n",
    "for i in range(0,n):\n",
    "    c=input(\"enter a character \")\n",
    "    if c in s:\n",
    "        y+=1\n",
    "    else:\n",
    "        print(\"sorry wrong guess!!!\")\n",
    "    if y==len(s):\n",
    "        print(\"you won\")\n",
    "        break\n",
    "        "
   ]
  },
  {
   "cell_type": "code",
   "execution_count": null,
   "metadata": {
    "collapsed": true
   },
   "outputs": [],
   "source": []
  }
 ],
 "metadata": {
  "kernelspec": {
   "display_name": "Python 3",
   "language": "python",
   "name": "python3"
  },
  "language_info": {
   "codemirror_mode": {
    "name": "ipython",
    "version": 3
   },
   "file_extension": ".py",
   "mimetype": "text/x-python",
   "name": "python",
   "nbconvert_exporter": "python",
   "pygments_lexer": "ipython3",
   "version": "3.6.3"
  }
 },
 "nbformat": 4,
 "nbformat_minor": 2
}
